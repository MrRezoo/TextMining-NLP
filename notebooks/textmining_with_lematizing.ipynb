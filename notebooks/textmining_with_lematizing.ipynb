{
 "cells": [
  {
   "cell_type": "code",
   "execution_count": 1,
   "metadata": {
    "collapsed": true
   },
   "outputs": [],
   "source": [
    "import pandas as pd"
   ]
  },
  {
   "cell_type": "markdown",
   "source": [
    "# Text Mining on persian news\n",
    "    i want to learn how can i change accuracy\n",
    "    of predicted class of social class ['Category']"
   ],
   "metadata": {
    "collapsed": false,
    "pycharm": {
     "name": "#%% md\n"
    }
   }
  },
  {
   "cell_type": "code",
   "execution_count": 2,
   "outputs": [
    {
     "data": {
      "text/plain": "   NewsID                                              Title  \\\n0  843656  \\nوزير علوم درجمع استادان نمونه: سن بازنشستگي ...   \n1  837144  \\nگردهمايي دانش‌آموختگان موسسه آموزش عالي سوره...   \n2  436862  \\nنتايج آزمون دوره‌هاي فراگير دانشگاه پيام‌نور...   \n3  227781  \\nهمايش يكروزه آسيب شناسي مفهوم روابط عمومي در...   \n4  174187  \\nوضعيت اقتصادي و ميزان تحصيلات والدين از مهمت...   \n\n                                                Body         Date       Time  \\\n0  \\nوزير علوم در جمع استادان نمونه كشور گفت: از ...  \\n138/5//09  \\n0:9::18   \n1  \\nبه گزارش سرويس صنفي آموزشي خبرگزاري دانشجويا...  \\n138/5//09  \\n1:4::11   \n2  \\nنتايج آزمون دوره‌هاي فراگير مقاطع كارشناسي و...  \\n138/3//07  \\n1:0::03   \n3                                                 \\n  \\n138/2//02  \\n1:3::42   \n4  \\nمحمدتقي علوي يزدي، مجري اين طرح پژوهشي در اي...  \\n138/1//08  \\n1:1::49   \n\n             Category  Category2  \n0           \\nآموزشي-   \\nآموزشي  \n1           \\nآموزشي-   \\nآموزشي  \n2           \\nآموزشي-   \\nآموزشي  \n3  \\nاجتماعي-خانواده-  \\nاجتماعي  \n4           \\nآموزشي-   \\nآموزشي  ",
      "text/html": "<div>\n<style scoped>\n    .dataframe tbody tr th:only-of-type {\n        vertical-align: middle;\n    }\n\n    .dataframe tbody tr th {\n        vertical-align: top;\n    }\n\n    .dataframe thead th {\n        text-align: right;\n    }\n</style>\n<table border=\"1\" class=\"dataframe\">\n  <thead>\n    <tr style=\"text-align: right;\">\n      <th></th>\n      <th>NewsID</th>\n      <th>Title</th>\n      <th>Body</th>\n      <th>Date</th>\n      <th>Time</th>\n      <th>Category</th>\n      <th>Category2</th>\n    </tr>\n  </thead>\n  <tbody>\n    <tr>\n      <th>0</th>\n      <td>843656</td>\n      <td>\\nوزير علوم درجمع استادان نمونه: سن بازنشستگي ...</td>\n      <td>\\nوزير علوم در جمع استادان نمونه كشور گفت: از ...</td>\n      <td>\\n138/5//09</td>\n      <td>\\n0:9::18</td>\n      <td>\\nآموزشي-</td>\n      <td>\\nآموزشي</td>\n    </tr>\n    <tr>\n      <th>1</th>\n      <td>837144</td>\n      <td>\\nگردهمايي دانش‌آموختگان موسسه آموزش عالي سوره...</td>\n      <td>\\nبه گزارش سرويس صنفي آموزشي خبرگزاري دانشجويا...</td>\n      <td>\\n138/5//09</td>\n      <td>\\n1:4::11</td>\n      <td>\\nآموزشي-</td>\n      <td>\\nآموزشي</td>\n    </tr>\n    <tr>\n      <th>2</th>\n      <td>436862</td>\n      <td>\\nنتايج آزمون دوره‌هاي فراگير دانشگاه پيام‌نور...</td>\n      <td>\\nنتايج آزمون دوره‌هاي فراگير مقاطع كارشناسي و...</td>\n      <td>\\n138/3//07</td>\n      <td>\\n1:0::03</td>\n      <td>\\nآموزشي-</td>\n      <td>\\nآموزشي</td>\n    </tr>\n    <tr>\n      <th>3</th>\n      <td>227781</td>\n      <td>\\nهمايش يكروزه آسيب شناسي مفهوم روابط عمومي در...</td>\n      <td>\\n</td>\n      <td>\\n138/2//02</td>\n      <td>\\n1:3::42</td>\n      <td>\\nاجتماعي-خانواده-</td>\n      <td>\\nاجتماعي</td>\n    </tr>\n    <tr>\n      <th>4</th>\n      <td>174187</td>\n      <td>\\nوضعيت اقتصادي و ميزان تحصيلات والدين از مهمت...</td>\n      <td>\\nمحمدتقي علوي يزدي، مجري اين طرح پژوهشي در اي...</td>\n      <td>\\n138/1//08</td>\n      <td>\\n1:1::49</td>\n      <td>\\nآموزشي-</td>\n      <td>\\nآموزشي</td>\n    </tr>\n  </tbody>\n</table>\n</div>"
     },
     "execution_count": 2,
     "metadata": {},
     "output_type": "execute_result"
    }
   ],
   "source": [
    "data = pd.read_csv('../data/per.csv')\n",
    "data.head()"
   ],
   "metadata": {
    "collapsed": false,
    "pycharm": {
     "name": "#%%\n"
    }
   }
  },
  {
   "cell_type": "code",
   "execution_count": 3,
   "outputs": [
    {
     "data": {
      "text/plain": "['!',\n '\"',\n '#',\n '(',\n ')',\n '*',\n ',',\n '-',\n '.',\n '/',\n ':',\n '[',\n ']',\n '«',\n '»',\n '،',\n '؛',\n '؟',\n 'آباد',\n 'آخ',\n 'آخر',\n 'آخرها',\n 'آخه',\n 'آدمهاست',\n 'آرام',\n 'آرام آرام',\n 'آره',\n 'آری',\n 'آزادانه',\n 'آسان',\n 'آسیب پذیرند',\n 'آشنایند',\n 'آشکارا',\n 'آقا',\n 'آقای',\n 'آقایان',\n 'آمد',\n 'آمدن',\n 'آمده',\n 'آمرانه',\n 'آن',\n 'آن گاه',\n 'آنان',\n 'آنانی',\n 'آنجا',\n 'آنرا',\n 'آنطور',\n 'آنقدر',\n 'آنها',\n 'آنهاست',\n 'آنچنان',\n 'آنچنان که',\n 'آنچه',\n 'آنکه',\n 'آنگاه',\n 'آن\\u200cها',\n 'آهان',\n 'آهای',\n 'آور',\n 'آورد',\n 'آوردن',\n 'آورده',\n 'آوه',\n 'آی',\n 'آیا',\n 'آید',\n 'آیند',\n 'ا',\n 'اتفاقا',\n 'اثرِ',\n 'اجراست',\n 'احتراما',\n 'احتمالا',\n 'احیاناً',\n 'اخیر',\n 'اخیراً',\n 'اری',\n 'از',\n 'از آن پس',\n 'از جمله',\n 'ازاین رو',\n 'ازجمله',\n 'ازش',\n 'اساسا',\n 'اساساً',\n 'است',\n 'استفاد',\n 'استفاده',\n 'اسلامی اند',\n 'اش',\n 'اشتباها',\n 'اشکارا',\n 'اصلا',\n 'اصلاً',\n 'اصولا',\n 'اصولاً',\n 'اعلام',\n 'اغلب',\n 'افزود',\n 'افسوس',\n 'اقل',\n 'اقلیت',\n 'الا',\n 'الان',\n 'البته',\n 'البتّه',\n 'الهی',\n 'الی',\n 'ام',\n 'اما',\n 'امروز',\n 'امروزه',\n 'امسال',\n 'امشب',\n 'امور',\n 'امیدوارم',\n 'امیدوارند',\n 'امیدواریم',\n 'ان',\n 'ان شاأالله',\n 'انتها',\n 'انجام',\n 'اند',\n 'اندکی',\n 'انشاالله',\n 'انصافا',\n 'انطور',\n 'انقدر',\n 'انها',\n 'انچنان',\n 'انکه',\n 'انگار',\n 'او',\n 'اوست',\n 'اول',\n 'اولا',\n 'اولاً',\n 'اولین',\n 'اون',\n 'اکثر',\n 'اکثرا',\n 'اکثراً',\n 'اکثریت',\n 'اکنون',\n 'اگر',\n 'اگر چه',\n 'اگرچه',\n 'اگه',\n 'ای',\n 'ایا',\n 'اید',\n 'ایشان',\n 'ایم',\n 'این',\n 'این جوری',\n 'این قدر',\n 'این گونه',\n 'اینان',\n 'اینجا',\n 'اینجاست',\n 'ایند',\n 'اینطور',\n 'اینقدر',\n 'اینها',\n 'اینهاست',\n 'اینو',\n 'اینچنین',\n 'اینک',\n 'اینکه',\n 'اینگونه',\n 'ب ',\n 'با',\n 'بااین حال',\n 'بااین وجود',\n 'باد',\n 'بار',\n 'بارة',\n 'باره',\n 'بارها',\n 'باز',\n 'باز هم',\n 'بازهم',\n 'بازی کنان',\n 'بازیگوشانه',\n 'باش',\n 'باشد',\n 'باشم',\n 'باشند',\n 'باشی',\n 'باشید',\n 'باشیم',\n 'بالا',\n 'بالاخره',\n 'بالاخص',\n 'بالاست',\n 'بالای',\n 'بالایِ',\n 'بالطبع',\n 'بالعکس',\n 'باوجودی که',\n 'باورند',\n 'باید',\n 'بتدریج',\n 'بتوان',\n 'بتواند',\n 'بتوانی',\n 'بتوانیم',\n 'بجز',\n 'بخش',\n 'بخشه',\n 'بخشی',\n 'بخصوص',\n 'بخواه',\n 'بخواهد',\n 'بخواهم',\n 'بخواهند',\n 'بخواهی',\n 'بخواهید',\n 'بخواهیم',\n 'بخوبی',\n 'بد',\n 'بدان',\n 'بدانجا',\n 'بدانها',\n 'بدهید',\n 'بدون',\n 'بدین',\n 'بدین ترتیب',\n 'بدینجا',\n 'بر',\n 'برآنند',\n 'برا',\n 'برابر',\n 'برابرِ',\n 'براحتی',\n 'براساس',\n 'براستی',\n 'برای',\n 'برایت',\n 'برایش',\n 'برایشان',\n 'برایم',\n 'برایمان',\n 'برایِ',\n 'برخوردار',\n 'برخوردارند',\n 'برخی',\n 'برداری',\n 'برعکس',\n 'برنامه سازهاست',\n 'بروز',\n 'بروشنی',\n 'بزرگ',\n 'بزودی',\n 'بس',\n 'بسا',\n 'بسادگی',\n 'بسختی',\n 'بسوی',\n 'بسی',\n 'بسیار',\n 'بسیاری',\n 'بشدت',\n 'بطور',\n 'بطوری که',\n 'بعد',\n 'بعد از این که',\n 'بعدا',\n 'بعدازظهر',\n 'بعداً',\n 'بعدها',\n 'بعری',\n 'بعضا',\n 'بعضی',\n 'بعضی شان',\n 'بعضیهایشان',\n 'بعضی\\u200cها',\n 'بعلاوه',\n 'بعید',\n 'بفهمی نفهمی',\n 'بلافاصله',\n 'بله',\n 'بلکه',\n 'بلی',\n 'بماند',\n 'بنابراین',\n 'بندی',\n 'به',\n 'به آسانی',\n 'به تازگی',\n 'به تدریج',\n 'به تمامی',\n 'به جای',\n 'به جز',\n 'به خوبی',\n 'به درشتی',\n 'به دلخواه',\n 'به راستی',\n 'به رغم',\n 'به روشنی',\n 'به زودی',\n 'به سادگی',\n 'به سرعت',\n 'به شان',\n 'به شدت',\n 'به طور کلی',\n 'به طوری که',\n 'به علاوه',\n 'به قدری',\n 'به مراتب',\n 'به ناچار',\n 'به هرحال',\n 'به هیچ وجه',\n 'به وضوح',\n 'به ویژه',\n 'به کرات',\n 'به گرمی',\n 'بهت',\n 'بهتر',\n 'بهترین',\n 'بهش',\n 'بود',\n 'بودم',\n 'بودن',\n 'بودند',\n 'بوده',\n 'بودی',\n 'بودید',\n 'بودیم',\n 'بویژه',\n 'بپا',\n 'بکار',\n 'بکن',\n 'بکند',\n 'بکنم',\n 'بکنند',\n 'بکنی',\n 'بکنید',\n 'بکنیم',\n 'بگذاریم',\n 'بگو',\n 'بگوید',\n 'بگویم',\n 'بگویند',\n 'بگویی',\n 'بگویید',\n 'بگوییم',\n 'بگیر',\n 'بگیرد',\n 'بگیرم',\n 'بگیرند',\n 'بگیری',\n 'بگیرید',\n 'بگیریم',\n 'بی',\n 'بی آنکه',\n 'بی اطلاعند',\n 'بی تردید',\n 'بی تفاوتند',\n 'بی نیازمندانه',\n 'بی هدف',\n 'بیا',\n 'بیاب',\n 'بیابد',\n 'بیابم',\n 'بیابند',\n 'بیابی',\n 'بیابید',\n 'بیابیم',\n 'بیاور',\n 'بیاورد',\n 'بیاورم',\n 'بیاورند',\n 'بیاوری',\n 'بیاورید',\n 'بیاوریم',\n 'بیاید',\n 'بیایم',\n 'بیایند',\n 'بیایی',\n 'بیایید',\n 'بیاییم',\n 'بیرون',\n 'بیرونِ',\n 'بیست',\n 'بیش',\n 'بیشتر',\n 'بیشتری',\n 'بین',\n 'بیگمان',\n 'ت',\n 'تا',\n 'تازه',\n 'تان',\n 'تاکنون',\n 'تحت',\n 'تحریم هاست',\n 'تر',\n 'تر براساس',\n 'تریلیارد',\n 'تریلیون',\n 'ترین',\n 'تصریحاً',\n 'تعدادی',\n 'تعمدا',\n 'تقریبا',\n 'تقریباً',\n 'تلویحا',\n 'تلویحاً',\n 'تمام',\n 'تمام قد',\n 'تماما',\n 'تمامشان',\n 'تمامی',\n 'تند تند',\n 'تنها',\n 'تو',\n 'توؤماً',\n 'توان',\n 'تواند',\n 'توانست',\n 'توانستم',\n 'توانستن',\n 'توانستند',\n 'توانسته',\n 'توانستی',\n 'توانستیم',\n 'توانم',\n 'توانند',\n 'توانی',\n 'توانید',\n 'توانیم',\n 'توسط',\n 'تولِ',\n 'توی',\n 'تویِ',\n 'تک تک',\n 'ث',\n 'ثالثاً',\n 'ثانیا',\n 'ثانیاً',\n 'ج',\n 'جا',\n 'جای',\n 'جایی',\n 'جدا',\n 'جداً',\n 'جداگانه',\n 'جدید',\n 'جدیدا',\n 'جرمزاست',\n 'جریان',\n 'جز',\n 'جلو',\n 'جلوگیری',\n 'جلوی',\n 'جلویِ',\n 'جمع اند',\n 'جمعا',\n 'جمعی',\n 'جنابعالی',\n 'جناح',\n 'جنس اند',\n 'جهت',\n 'جور',\n 'ح',\n 'حاشیه\\u200cای',\n 'حاضر',\n 'حاضرم',\n 'حال',\n 'حالا',\n 'حاکیست',\n 'حتما',\n 'حتماً',\n 'حتی',\n 'حداقل',\n 'حداکثر',\n 'حدود',\n 'حدودا',\n 'حدودِ',\n 'حسابگرانه',\n 'حضرتعالی',\n 'حق',\n 'حقیرانه',\n 'حقیقتا',\n 'حول',\n 'حکماً',\n 'خ',\n 'خارجِ',\n 'خالصانه',\n 'خب',\n 'خداحافظ',\n 'خداست',\n 'خدمات',\n 'خسته\\u200cای',\n 'خصوصا',\n 'خصوصاً',\n 'خلاصه',\n 'خواست',\n 'خواستم',\n 'خواستن',\n 'خواستند',\n 'خواسته',\n 'خواستی',\n 'خواستید',\n 'خواستیم',\n 'خواه',\n 'خواهد',\n 'خواهم',\n 'خواهند',\n 'خواهی',\n 'خواهید',\n 'خواهیم',\n 'خوب',\n 'خود',\n 'خود به خود',\n 'خودبه خودی',\n 'خودت',\n 'خودتان',\n 'خودتو',\n 'خودش',\n 'خودشان',\n 'خودم',\n 'خودمان',\n 'خودمو',\n 'خوش',\n 'خوشبختانه',\n 'خویش',\n 'خویشتن',\n 'خویشتنم',\n 'خیاه',\n 'خیر',\n 'خیره',\n 'خیلی',\n 'د',\n 'دا',\n 'داام',\n 'دااما',\n 'داخل',\n 'داد',\n 'دادم',\n 'دادن',\n 'دادند',\n 'داده',\n 'دادی',\n 'دادید',\n 'دادیم',\n 'دار',\n 'داراست',\n 'دارد',\n 'دارم',\n 'دارند',\n 'داری',\n 'دارید',\n 'داریم',\n 'داشت',\n 'داشتم',\n 'داشتن',\n 'داشتند',\n 'داشته',\n 'داشتی',\n 'داشتید',\n 'داشتیم',\n 'دامم',\n 'دانست',\n 'دانند',\n 'دایم',\n 'دایما',\n 'در',\n 'در باره',\n 'در بارهٌ',\n 'در ثانی',\n 'در مجموع',\n 'در نهایت',\n 'در واقع',\n 'در کل',\n 'در کنار',\n 'دراین میان',\n 'درباره',\n 'درحالی که',\n 'درحالیکه',\n 'درست',\n 'درست و حسابی',\n 'درسته',\n 'درصورتی که',\n 'درعین حال',\n 'درمجموع',\n 'درواقع',\n 'درون',\n 'دریغ',\n 'دریغا',\n 'درین',\n 'دسته دسته',\n 'دشمنیم',\n 'دقیقا',\n 'دم',\n 'دنبالِ',\n 'ده',\n 'دهد',\n 'دهم',\n 'دهند',\n 'دهی',\n 'دهید',\n 'دهیم',\n 'دو',\n 'دو روزه',\n 'دوباره',\n 'دوم',\n 'دیده',\n 'دیر',\n 'دیرت',\n 'دیرم',\n 'دیروز',\n 'دیشب',\n 'دیوانه\\u200cای',\n 'دیوی',\n 'دیگر',\n 'دیگران',\n 'دیگری',\n 'دیگه',\n 'ذ',\n 'ذاتاً',\n 'ر',\n 'را',\n 'راجع به',\n 'راحت',\n 'راسا',\n 'راست',\n 'راستی',\n 'راه',\n 'رسما',\n 'رسید',\n 'رسیده',\n 'رشته',\n 'رفت',\n 'رفتارهاست',\n 'رفته',\n 'رنجند',\n 'رهگشاست',\n 'رو',\n 'رواست',\n 'روب',\n 'روبروست',\n 'روز',\n 'روز به روز',\n 'روزانه',\n 'روزه ایم',\n 'روزه ست',\n 'روزه م',\n 'روزهای',\n 'روزه\\u200cای',\n 'روش',\n 'روی',\n 'رویش',\n 'رویِ',\n 'ریزی',\n 'ز',\n 'زشتکارانند',\n 'زمان',\n 'زمانی',\n 'زمینه',\n 'زنند',\n 'زهی',\n 'زود',\n 'زودتر',\n 'زیاد',\n 'زیاده',\n 'زیر',\n 'زیرا',\n 'زیرِ',\n 'زیرچشمی',\n 'س',\n 'سابق',\n 'ساخته',\n 'ساده اند',\n 'سازی',\n 'سالانه',\n 'سالته',\n 'سالم\\u200cتر',\n 'سالهاست',\n 'سالیانه',\n 'ساکنند',\n 'سایر',\n 'سخت',\n 'سخته',\n 'سر',\n 'سراسر',\n 'سرانجام',\n 'سراپا',\n 'سری',\n 'سریع',\n 'سریعا',\n 'سریعاً',\n 'سریِ',\n 'سعی',\n 'سمتِ',\n 'سه باره',\n 'سهواً',\n 'سوم',\n 'سوی',\n 'سویِ',\n 'سپس',\n 'سیاه چاله هاست',\n 'سیخ',\n 'ش',\n 'شان',\n 'شاهدند',\n 'شاهدیم',\n 'شاید',\n 'شبهاست',\n 'شخصا',\n 'شخصاً',\n 'شد',\n 'شدم',\n 'شدن',\n 'شدند',\n 'شده',\n 'شدی',\n 'شدید',\n 'شدیدا',\n 'شدیداً',\n 'شدیم',\n 'شش',\n 'شش نداشته',\n 'شما',\n 'شماری',\n 'شماست',\n 'شمایند',\n 'شناسی',\n 'شو',\n 'شود',\n 'شوراست',\n 'شوقم',\n 'شوم',\n 'شوند',\n 'شونده',\n 'شوی',\n 'شوید',\n 'شویم',\n 'شیرین',\n 'شیرینه',\n 'شیک',\n 'ص',\n 'صد',\n 'صددرصد',\n 'صرفا',\n 'صرفاً',\n 'صریحاً',\n 'صندوق هاست',\n 'صورت',\n 'ض',\n 'ضدِّ',\n 'ضدِّ',\n 'ضمن',\n 'ضمناً',\n 'ط',\n 'طبعا',\n 'طبعاً',\n 'طبقِ',\n 'طبیعتا',\n 'طرف',\n 'طریق',\n 'طلبکارانه',\n 'طور',\n 'طی',\n 'ظ',\n 'ظاهرا',\n 'ظاهراً',\n 'ع',\n 'عاجزانه',\n 'عاقبت',\n 'عبارتند',\n 'عجب',\n 'عجولانه',\n 'عدم',\n 'عرفانی',\n 'عقب',\n 'عقبِ',\n 'علاوه بر',\n 'علاوه بر آن',\n 'علاوه برآن',\n 'علناً',\n 'علّتِ',\n 'علی الظاهر',\n 'علی رغم',\n 'علیرغم',\n 'علیه',\n 'عمدا',\n 'عمداً',\n 'عمدتا',\n 'عمدتاً',\n 'عمده',\n 'عمل',\n 'عملا',\n 'عملاً',\n 'عملی اند',\n 'عموم',\n 'عموما',\n 'عموماً',\n 'عنقریب',\n 'عنوان',\n 'عنوانِ',\n 'عیناً',\n 'غ',\n 'غالبا',\n 'غزالان',\n 'غیر',\n 'غیرقانونی',\n 'ف',\n 'فاقد',\n 'فبها',\n 'فر',\n 'فردا',\n 'فعلا',\n 'فعلاً',\n 'فقط',\n 'فلان',\n 'فلذا',\n 'فوق',\n 'فکر',\n 'ق',\n 'قاالند',\n 'قابل',\n 'قاطبه',\n 'قاطعانه',\n 'قاعدتاً',\n 'قانوناً',\n 'قبل',\n 'قبلا',\n 'قبلاً',\n 'قبلند',\n 'قدر',\n 'قدری',\n 'قصدِ',\n 'قضایاست',\n 'قطعا',\n 'قطعاً',\n 'ل',\n 'لااقل',\n 'لاجرم',\n 'لب',\n 'لذا',\n 'لزوماً',\n 'لطفا',\n 'لطفاً',\n 'لیکن',\n 'م',\n 'ما',\n 'مادامی',\n 'ماست',\n 'مامان مامان گویان',\n 'مان',\n 'مانند',\n 'مانندِ',\n 'مبادا',\n 'متؤسفانه',\n 'متاسفانه',\n 'متعاقبا',\n 'متفاوتند',\n 'مثل',\n 'مثلا',\n 'مثلِ',\n 'مجانی',\n 'مجبورند',\n 'مجددا',\n 'مجدداً',\n 'مجموعا',\n 'مجموعاً',\n 'محتاجند',\n 'محکم',\n 'محکم\\u200cتر',\n 'مخالفند',\n 'مختلف',\n 'مخصوصاً',\n 'مدام',\n 'مدت',\n 'مدتهاست',\n 'مدّتی',\n 'مذهبی اند',\n 'مرا',\n 'مرتب',\n 'مردانه',\n 'مردم',\n 'مردم اند',\n 'مرسی',\n 'مستحضرید',\n 'مستقیما',\n 'مستند',\n 'مسلما',\n 'مشت',\n 'مشترکاً',\n 'مشغولند',\n 'مطمانا',\n 'مطمانم',\n 'مطمینا',\n 'مع الاسف',\n 'مع ذلک',\n 'معتقدم',\n 'معتقدند',\n 'معتقدیم',\n 'معدود',\n 'معذوریم',\n 'معلومه',\n 'معمولا',\n 'معمولاً',\n 'معمولی',\n 'مغرضانه',\n 'مفیدند',\n 'مقابل',\n 'مقدار',\n 'مقصرند',\n 'مقصری',\n 'ملیارد',\n 'ملیون',\n 'ممکن',\n 'ممیزیهاست',\n 'من',\n 'منتهی',\n 'منطقی',\n 'منی',\n 'مواجهند',\n 'موارد',\n 'موجودند',\n 'مورد',\n 'موقتا',\n 'مکرر',\n 'مکرراً',\n 'مگر',\n 'مگر آن که',\n 'مگر این که',\n 'مگو',\n 'می',\n 'میان',\n 'میزان',\n 'میلیارد',\n 'میلیون',\n 'میکند',\n 'میکنم',\n 'میکنند',\n 'میکنی',\n 'میکنید',\n 'میکنیم',\n 'می\\u200cتواند',\n 'می\\u200cخواهیم',\n 'می\\u200cداند',\n 'می\\u200cرسد',\n 'می\\u200cرود',\n 'می\\u200cشود',\n 'می\\u200cکنم',\n 'می\\u200cکنند',\n 'می\\u200cکنیم',\n 'ن',\n 'ناامید',\n 'ناخواسته',\n 'ناراضی اند',\n 'ناشی',\n 'نام',\n 'ناگاه',\n 'ناگزیر',\n 'ناگهان',\n 'ناگهانی',\n 'نباید',\n 'نبش',\n 'نبود',\n 'نخست',\n 'نخستین',\n 'نخواهد',\n 'نخواهم',\n 'نخواهند',\n 'نخواهی',\n 'نخواهید',\n 'نخواهیم',\n 'نخودی',\n 'ندارد',\n 'ندارم',\n 'ندارند',\n 'نداری',\n 'ندارید',\n 'نداریم',\n 'نداشت',\n 'نداشتم',\n 'نداشتند',\n 'نداشته',\n 'نداشتی',\n 'نداشتید',\n 'نداشتیم',\n 'نزد',\n 'نزدِ',\n 'نزدیک',\n 'نزدیکِ',\n 'نسبتا',\n 'نشان',\n 'نشده',\n 'نظیر',\n 'نفرند',\n 'نماید',\n 'نموده',\n 'نمی',\n 'نمی\\u200cشود',\n 'نمی\\u200cکند',\n ...]"
     },
     "execution_count": 3,
     "metadata": {},
     "output_type": "execute_result"
    }
   ],
   "source": [
    "with open('../data/stopwords.txt') as stopwords_file:\n",
    "    stopwords = stopwords_file.readlines()\n",
    "stopwords = [line.replace('\\n', '') for line in stopwords]\n",
    "stopwords"
   ],
   "metadata": {
    "collapsed": false,
    "pycharm": {
     "name": "#%%\n"
    }
   }
  },
  {
   "cell_type": "markdown",
   "source": [
    "# nltk\n",
    "    use nltk => natraul language tool kit\n",
    "        use => stopwords and punkt of english language"
   ],
   "metadata": {
    "collapsed": false
   }
  },
  {
   "cell_type": "code",
   "execution_count": 4,
   "outputs": [
    {
     "name": "stdout",
     "output_type": "stream",
     "text": [
      "[nltk_data] Downloading package stopwords to\n",
      "[nltk_data]     /Users/mr.rezoo/nltk_data...\n",
      "[nltk_data]   Package stopwords is already up-to-date!\n",
      "[nltk_data] Downloading package punkt to /Users/mr.rezoo/nltk_data...\n",
      "[nltk_data]   Package punkt is already up-to-date!\n"
     ]
    },
    {
     "data": {
      "text/plain": "True"
     },
     "execution_count": 4,
     "metadata": {},
     "output_type": "execute_result"
    }
   ],
   "source": [
    "import nltk\n",
    "\n",
    "nltk.download('stopwords')\n",
    "nltk.download('punkt')"
   ],
   "metadata": {
    "collapsed": false,
    "pycharm": {
     "name": "#%%\n"
    }
   }
  },
  {
   "cell_type": "code",
   "execution_count": 5,
   "outputs": [
    {
     "data": {
      "text/plain": "1495"
     },
     "execution_count": 5,
     "metadata": {},
     "output_type": "execute_result"
    }
   ],
   "source": [
    "nltk_stopwords = nltk.corpus.stopwords.words('english')\n",
    "stopwords.extend(nltk_stopwords)\n",
    "len(stopwords)"
   ],
   "metadata": {
    "collapsed": false,
    "pycharm": {
     "name": "#%%\n"
    }
   }
  },
  {
   "cell_type": "markdown",
   "source": [
    "# hazm\n",
    "    use hazm => persioan natral language prosessors pakage\n",
    "        use => Stemmer"
   ],
   "metadata": {
    "collapsed": false,
    "pycharm": {
     "name": "#%% md\n"
    }
   }
  },
  {
   "cell_type": "code",
   "execution_count": 6,
   "outputs": [
    {
     "data": {
      "text/plain": "'کتاب '"
     },
     "execution_count": 6,
     "metadata": {},
     "output_type": "execute_result"
    }
   ],
   "source": [
    "import hazm\n",
    "\n",
    "stemmer = hazm.Stemmer()\n",
    "stemmer.stem('کتاب ها')"
   ],
   "metadata": {
    "collapsed": false,
    "pycharm": {
     "name": "#%%\n"
    }
   }
  },
  {
   "cell_type": "code",
   "execution_count": 7,
   "outputs": [
    {
     "data": {
      "text/plain": "'رفت#رو'"
     },
     "execution_count": 7,
     "metadata": {},
     "output_type": "execute_result"
    }
   ],
   "source": [
    "lem = hazm.Lemmatizer()\n",
    "lem.lemmatize('می‌روم')"
   ],
   "metadata": {
    "collapsed": false,
    "pycharm": {
     "name": "#%%\n"
    }
   }
  },
  {
   "cell_type": "markdown",
   "source": [
    "### Preprocess of news\n",
    "     1 => join ['Title','Body']\n",
    "     2 => tokenization vocab\n",
    "     3 => filter from stopwords\n",
    "     4 => stemming vocabs"
   ],
   "metadata": {
    "collapsed": false,
    "pycharm": {
     "name": "#%% md\n"
    }
   }
  },
  {
   "cell_type": "code",
   "execution_count": 8,
   "outputs": [],
   "source": [
    "from hazm import word_tokenize\n",
    "\n",
    "\"\"\"\n",
    "    Preprocess of news\n",
    "     1 => join ['Title','Body']\n",
    "     2 => tokenization vocab\n",
    "     3 => filter from stopwords\n",
    "     4 => stemming vocabs\n",
    "\"\"\"\n",
    "dataset = pd.DataFrame(columns=('title_body', 'category'))\n",
    "for index, row in data.iterrows():\n",
    "    title_body = row['Title'] + ' ' + row['Body']\n",
    "    title_body_tokenized = word_tokenize(title_body)\n",
    "    title_body_tokenized_filtered = [w for w in title_body_tokenized if not w in stopwords]\n",
    "    title_body_tokenized_filtered_stemmed = [stemmer.stem(w) for w in title_body_tokenized_filtered]\n",
    "    title_body_tokenized_filtered_lem = [lem.lemmatize(w).replace('#', ' ') for w in title_body_tokenized_filtered]\n",
    "    dataset.loc[index] = {\n",
    "        'title_body': ' '.join(title_body_tokenized_filtered_lem) + ' ' + ' '.join(\n",
    "            title_body_tokenized_filtered_stemmed),\n",
    "        'category': row['Category2'].replace('\\n', ''),\n",
    "    }"
   ],
   "metadata": {
    "collapsed": false,
    "pycharm": {
     "name": "#%%\n"
    }
   }
  },
  {
   "cell_type": "code",
   "execution_count": 9,
   "outputs": [
    {
     "data": {
      "text/plain": "                                          title_body category\n0  وزير علوم درجمع استاد نمونه سن بازنشستگي استاد...   آموزشي\n1  گردهمايي دانش‌آموختگان موسسه آموزش عالي سوره ب...   آموزشي\n2  نتايج آزمون دوره‌هاي فراگير دانشگاه پيام‌نور ن...   آموزشي\n3  همايش يكروزه آسيب شناسي مفهوم روابط عمومي بابل...  اجتماعي\n4  وضعيت اقتصادي ميزان تحصيلات والدين مهمترين عوا...   آموزشي",
      "text/html": "<div>\n<style scoped>\n    .dataframe tbody tr th:only-of-type {\n        vertical-align: middle;\n    }\n\n    .dataframe tbody tr th {\n        vertical-align: top;\n    }\n\n    .dataframe thead th {\n        text-align: right;\n    }\n</style>\n<table border=\"1\" class=\"dataframe\">\n  <thead>\n    <tr style=\"text-align: right;\">\n      <th></th>\n      <th>title_body</th>\n      <th>category</th>\n    </tr>\n  </thead>\n  <tbody>\n    <tr>\n      <th>0</th>\n      <td>وزير علوم درجمع استاد نمونه سن بازنشستگي استاد...</td>\n      <td>آموزشي</td>\n    </tr>\n    <tr>\n      <th>1</th>\n      <td>گردهمايي دانش‌آموختگان موسسه آموزش عالي سوره ب...</td>\n      <td>آموزشي</td>\n    </tr>\n    <tr>\n      <th>2</th>\n      <td>نتايج آزمون دوره‌هاي فراگير دانشگاه پيام‌نور ن...</td>\n      <td>آموزشي</td>\n    </tr>\n    <tr>\n      <th>3</th>\n      <td>همايش يكروزه آسيب شناسي مفهوم روابط عمومي بابل...</td>\n      <td>اجتماعي</td>\n    </tr>\n    <tr>\n      <th>4</th>\n      <td>وضعيت اقتصادي ميزان تحصيلات والدين مهمترين عوا...</td>\n      <td>آموزشي</td>\n    </tr>\n  </tbody>\n</table>\n</div>"
     },
     "execution_count": 9,
     "metadata": {},
     "output_type": "execute_result"
    }
   ],
   "source": [
    "dataset.head()\n"
   ],
   "metadata": {
    "collapsed": false,
    "pycharm": {
     "name": "#%%\n"
    }
   }
  },
  {
   "cell_type": "markdown",
   "source": [
    " ### use bag of words to vectorized static title"
   ],
   "metadata": {
    "collapsed": false,
    "pycharm": {
     "name": "#%% md\n"
    }
   }
  },
  {
   "cell_type": "code",
   "execution_count": 10,
   "outputs": [
    {
     "data": {
      "text/plain": "TfidfVectorizer(ngram_range=(1, 2))"
     },
     "execution_count": 10,
     "metadata": {},
     "output_type": "execute_result"
    }
   ],
   "source": [
    "\"\"\"\n",
    "    use bag of words to vectorized static title\n",
    "\n",
    "        ==>> use ngram_range\n",
    "\"\"\"\n",
    "from sklearn.feature_extraction.text import TfidfVectorizer\n",
    "\n",
    "vectorizer = TfidfVectorizer(ngram_range=(1, 2))\n",
    "vectorizer.fit(dataset['title_body'])"
   ],
   "metadata": {
    "collapsed": false,
    "pycharm": {
     "name": "#%%\n"
    }
   }
  },
  {
   "cell_type": "code",
   "execution_count": 11,
   "outputs": [],
   "source": [
    "X = vectorizer.transform(dataset['title_body'])"
   ],
   "metadata": {
    "collapsed": false,
    "pycharm": {
     "name": "#%%\n"
    }
   }
  },
  {
   "cell_type": "code",
   "execution_count": 12,
   "outputs": [
    {
     "data": {
      "text/plain": "<10999x1861001 sparse matrix of type '<class 'numpy.float64'>'\n\twith 6234277 stored elements in Compressed Sparse Row format>"
     },
     "execution_count": 12,
     "metadata": {},
     "output_type": "execute_result"
    }
   ],
   "source": [
    "X"
   ],
   "metadata": {
    "collapsed": false,
    "pycharm": {
     "name": "#%%\n"
    }
   }
  },
  {
   "cell_type": "markdown",
   "source": [
    "### encoding labels | change categorical to numeric"
   ],
   "metadata": {
    "collapsed": false,
    "pycharm": {
     "name": "#%% md\n"
    }
   }
  },
  {
   "cell_type": "code",
   "execution_count": 13,
   "outputs": [],
   "source": [
    "from sklearn.preprocessing import LabelEncoder\n",
    "\n",
    "label_encoder = LabelEncoder()\n",
    "y = label_encoder.fit_transform(dataset['category'])"
   ],
   "metadata": {
    "collapsed": false,
    "pycharm": {
     "name": "#%%\n"
    }
   }
  },
  {
   "cell_type": "code",
   "execution_count": 14,
   "outputs": [
    {
     "data": {
      "text/plain": "10999"
     },
     "execution_count": 14,
     "metadata": {},
     "output_type": "execute_result"
    }
   ],
   "source": [
    "len(y)"
   ],
   "metadata": {
    "collapsed": false,
    "pycharm": {
     "name": "#%%\n"
    }
   }
  },
  {
   "cell_type": "code",
   "execution_count": 15,
   "outputs": [
    {
     "data": {
      "text/plain": "array(['آموزشي', 'اجتماعي', 'اقتصادي', 'بهداشتي', 'تاريخي', 'سياسي',\n       'علمي', 'فرهنگي', 'فقه و حقوق', 'مذهبي', 'ورزشي'], dtype=object)"
     },
     "execution_count": 15,
     "metadata": {},
     "output_type": "execute_result"
    }
   ],
   "source": [
    "label_encoder.classes_"
   ],
   "metadata": {
    "collapsed": false,
    "pycharm": {
     "name": "#%%\n"
    }
   }
  },
  {
   "cell_type": "code",
   "execution_count": 16,
   "outputs": [
    {
     "name": "stdout",
     "output_type": "stream",
     "text": [
      "['آموزشي' 'اجتماعي' 'اقتصادي' 'بهداشتي' 'تاريخي' 'سياسي' 'علمي' 'فرهنگي'\n",
      " 'فقه و حقوق' 'مذهبي' 'ورزشي']\n"
     ]
    }
   ],
   "source": [
    "import numpy as np\n",
    "\n",
    "print(np.unique(dataset['category']))"
   ],
   "metadata": {
    "collapsed": false,
    "pycharm": {
     "name": "#%%\n"
    }
   }
  },
  {
   "cell_type": "code",
   "execution_count": 17,
   "outputs": [
    {
     "data": {
      "text/plain": "(10999, 1861001)"
     },
     "execution_count": 17,
     "metadata": {},
     "output_type": "execute_result"
    }
   ],
   "source": [
    "X.shape"
   ],
   "metadata": {
    "collapsed": false,
    "pycharm": {
     "name": "#%%\n"
    }
   }
  },
  {
   "cell_type": "code",
   "execution_count": 18,
   "outputs": [
    {
     "data": {
      "text/plain": "(10999,)"
     },
     "execution_count": 18,
     "metadata": {},
     "output_type": "execute_result"
    }
   ],
   "source": [
    "np.shape(y)"
   ],
   "metadata": {
    "collapsed": false,
    "pycharm": {
     "name": "#%%\n"
    }
   }
  },
  {
   "cell_type": "code",
   "execution_count": 19,
   "outputs": [],
   "source": [
    "from sklearn.model_selection import train_test_split\n",
    "\n",
    "X_train, X_test, y_train, y_test = train_test_split(X, y)"
   ],
   "metadata": {
    "collapsed": false,
    "pycharm": {
     "name": "#%%\n"
    }
   }
  },
  {
   "cell_type": "code",
   "execution_count": null,
   "outputs": [],
   "source": [
    "from sklearn import svm\n",
    "\n",
    "svm_c = svm.SVC()\n",
    "svm_c.fit(X_train, y_train)"
   ],
   "metadata": {
    "collapsed": false,
    "pycharm": {
     "name": "#%%\n",
     "is_executing": true
    }
   }
  },
  {
   "cell_type": "markdown",
   "source": [
    "    check %25 data of X => X_test to predict and compare with y_test\n",
    "    :return accuracy"
   ],
   "metadata": {
    "collapsed": false,
    "pycharm": {
     "name": "#%% md\n"
    }
   }
  },
  {
   "cell_type": "code",
   "execution_count": null,
   "outputs": [],
   "source": [
    "\"\"\"\n",
    "    check %25 data of X => X_test to predict and compare with y_test\n",
    "    :return accuracy\n",
    "\"\"\"\n",
    "svm_c.score(X_test, y_test)\n"
   ],
   "metadata": {
    "collapsed": false,
    "pycharm": {
     "name": "#%%\n",
     "is_executing": true
    }
   }
  },
  {
   "cell_type": "code",
   "execution_count": null,
   "outputs": [],
   "source": [
    "from sklearn.metrics import classification_report, confusion_matrix\n",
    "\n",
    "y_pred = svm_c.predict(X_test)\n",
    "print(classification_report(y_test, y_pred))\n",
    "\"\"\"\n",
    "    low accuracy of class 1 => social news\n",
    "\"\"\""
   ],
   "metadata": {
    "collapsed": false,
    "pycharm": {
     "name": "#%%\n",
     "is_executing": true
    }
   }
  },
  {
   "cell_type": "code",
   "execution_count": null,
   "outputs": [],
   "source": [
    "print(label_encoder.classes_)\n",
    "print(\"\\n\", \"#\" * 100, '\\n')\n",
    "print(confusion_matrix(y_test, y_pred))\n",
    "\"\"\"\n",
    "    columns => predicted class\n",
    "    rows => original class\n",
    "\"\"\""
   ],
   "metadata": {
    "collapsed": false,
    "pycharm": {
     "name": "#%%\n",
     "is_executing": true
    }
   }
  },
  {
   "cell_type": "code",
   "execution_count": null,
   "outputs": [],
   "source": [],
   "metadata": {
    "collapsed": false,
    "pycharm": {
     "name": "#%%\n",
     "is_executing": true
    }
   }
  }
 ],
 "metadata": {
  "kernelspec": {
   "display_name": "Python 3",
   "language": "python",
   "name": "python3"
  },
  "language_info": {
   "codemirror_mode": {
    "name": "ipython",
    "version": 2
   },
   "file_extension": ".py",
   "mimetype": "text/x-python",
   "name": "python",
   "nbconvert_exporter": "python",
   "pygments_lexer": "ipython2",
   "version": "2.7.6"
  }
 },
 "nbformat": 4,
 "nbformat_minor": 0
}