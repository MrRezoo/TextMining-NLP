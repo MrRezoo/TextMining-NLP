{
 "cells": [
  {
   "cell_type": "code",
   "execution_count": 1,
   "metadata": {
    "collapsed": true
   },
   "outputs": [],
   "source": [
    "import pandas as pd"
   ]
  },
  {
   "cell_type": "markdown",
   "source": [
    "# Text Mining on persian news\n",
    "    i want to learn how can i change accuracy\n",
    "    of predicted class of social class ['Category']"
   ],
   "metadata": {
    "collapsed": false,
    "pycharm": {
     "name": "#%% md\n"
    }
   }
  },
  {
   "cell_type": "code",
   "execution_count": 2,
   "outputs": [
    {
     "data": {
      "text/plain": "   NewsID                                              Title  \\\n0  843656  \\nوزير علوم درجمع استادان نمونه: سن بازنشستگي ...   \n1  837144  \\nگردهمايي دانش‌آموختگان موسسه آموزش عالي سوره...   \n2  436862  \\nنتايج آزمون دوره‌هاي فراگير دانشگاه پيام‌نور...   \n3  227781  \\nهمايش يكروزه آسيب شناسي مفهوم روابط عمومي در...   \n4  174187  \\nوضعيت اقتصادي و ميزان تحصيلات والدين از مهمت...   \n\n                                                Body         Date       Time  \\\n0  \\nوزير علوم در جمع استادان نمونه كشور گفت: از ...  \\n138/5//09  \\n0:9::18   \n1  \\nبه گزارش سرويس صنفي آموزشي خبرگزاري دانشجويا...  \\n138/5//09  \\n1:4::11   \n2  \\nنتايج آزمون دوره‌هاي فراگير مقاطع كارشناسي و...  \\n138/3//07  \\n1:0::03   \n3                                                 \\n  \\n138/2//02  \\n1:3::42   \n4  \\nمحمدتقي علوي يزدي، مجري اين طرح پژوهشي در اي...  \\n138/1//08  \\n1:1::49   \n\n             Category  Category2  \n0           \\nآموزشي-   \\nآموزشي  \n1           \\nآموزشي-   \\nآموزشي  \n2           \\nآموزشي-   \\nآموزشي  \n3  \\nاجتماعي-خانواده-  \\nاجتماعي  \n4           \\nآموزشي-   \\nآموزشي  ",
      "text/html": "<div>\n<style scoped>\n    .dataframe tbody tr th:only-of-type {\n        vertical-align: middle;\n    }\n\n    .dataframe tbody tr th {\n        vertical-align: top;\n    }\n\n    .dataframe thead th {\n        text-align: right;\n    }\n</style>\n<table border=\"1\" class=\"dataframe\">\n  <thead>\n    <tr style=\"text-align: right;\">\n      <th></th>\n      <th>NewsID</th>\n      <th>Title</th>\n      <th>Body</th>\n      <th>Date</th>\n      <th>Time</th>\n      <th>Category</th>\n      <th>Category2</th>\n    </tr>\n  </thead>\n  <tbody>\n    <tr>\n      <th>0</th>\n      <td>843656</td>\n      <td>\\nوزير علوم درجمع استادان نمونه: سن بازنشستگي ...</td>\n      <td>\\nوزير علوم در جمع استادان نمونه كشور گفت: از ...</td>\n      <td>\\n138/5//09</td>\n      <td>\\n0:9::18</td>\n      <td>\\nآموزشي-</td>\n      <td>\\nآموزشي</td>\n    </tr>\n    <tr>\n      <th>1</th>\n      <td>837144</td>\n      <td>\\nگردهمايي دانش‌آموختگان موسسه آموزش عالي سوره...</td>\n      <td>\\nبه گزارش سرويس صنفي آموزشي خبرگزاري دانشجويا...</td>\n      <td>\\n138/5//09</td>\n      <td>\\n1:4::11</td>\n      <td>\\nآموزشي-</td>\n      <td>\\nآموزشي</td>\n    </tr>\n    <tr>\n      <th>2</th>\n      <td>436862</td>\n      <td>\\nنتايج آزمون دوره‌هاي فراگير دانشگاه پيام‌نور...</td>\n      <td>\\nنتايج آزمون دوره‌هاي فراگير مقاطع كارشناسي و...</td>\n      <td>\\n138/3//07</td>\n      <td>\\n1:0::03</td>\n      <td>\\nآموزشي-</td>\n      <td>\\nآموزشي</td>\n    </tr>\n    <tr>\n      <th>3</th>\n      <td>227781</td>\n      <td>\\nهمايش يكروزه آسيب شناسي مفهوم روابط عمومي در...</td>\n      <td>\\n</td>\n      <td>\\n138/2//02</td>\n      <td>\\n1:3::42</td>\n      <td>\\nاجتماعي-خانواده-</td>\n      <td>\\nاجتماعي</td>\n    </tr>\n    <tr>\n      <th>4</th>\n      <td>174187</td>\n      <td>\\nوضعيت اقتصادي و ميزان تحصيلات والدين از مهمت...</td>\n      <td>\\nمحمدتقي علوي يزدي، مجري اين طرح پژوهشي در اي...</td>\n      <td>\\n138/1//08</td>\n      <td>\\n1:1::49</td>\n      <td>\\nآموزشي-</td>\n      <td>\\nآموزشي</td>\n    </tr>\n  </tbody>\n</table>\n</div>"
     },
     "execution_count": 2,
     "metadata": {},
     "output_type": "execute_result"
    }
   ],
   "source": [
    "data = pd.read_csv('../data/per.csv')\n",
    "data.head()"
   ],
   "metadata": {
    "collapsed": false,
    "pycharm": {
     "name": "#%%\n"
    }
   }
  },
  {
   "cell_type": "code",
   "execution_count": 28,
   "outputs": [
    {
     "data": {
      "text/plain": "'! \" # ( ) * , - . / : [ ] « » ، ؛ ؟ آباد آخ آخر آخرها آخه آدمهاست آرام آرام آرام آره آری آزادانه آسان آسیب پذیرند آشنایند آشکارا آقا آقای آقایان آمد آمدن آمده آمرانه آن آن گاه آنان آنانی آنجا آنرا آنطور آنقدر آنها آنهاست'"
     },
     "execution_count": 28,
     "metadata": {},
     "output_type": "execute_result"
    }
   ],
   "source": [
    "with open('../data/stopwords.txt') as stopwords_file:\n",
    "    stopwords = stopwords_file.readlines()\n",
    "stopwords = [line.replace('\\n', '') for line in stopwords]\n",
    "' '.join(stopwords[:50])"
   ],
   "metadata": {
    "collapsed": false,
    "pycharm": {
     "name": "#%%\n"
    }
   }
  },
  {
   "cell_type": "markdown",
   "source": [
    "# nltk\n",
    "    use nltk => natraul language tool kit\n",
    "        use => stopwords and punkt of english language"
   ],
   "metadata": {
    "collapsed": false
   }
  },
  {
   "cell_type": "code",
   "execution_count": 4,
   "outputs": [
    {
     "name": "stdout",
     "output_type": "stream",
     "text": [
      "[nltk_data] Downloading package stopwords to\n",
      "[nltk_data]     /Users/mr.rezoo/nltk_data...\n",
      "[nltk_data]   Package stopwords is already up-to-date!\n",
      "[nltk_data] Downloading package punkt to /Users/mr.rezoo/nltk_data...\n",
      "[nltk_data]   Package punkt is already up-to-date!\n"
     ]
    },
    {
     "data": {
      "text/plain": "True"
     },
     "execution_count": 4,
     "metadata": {},
     "output_type": "execute_result"
    }
   ],
   "source": [
    "import nltk\n",
    "\n",
    "nltk.download('stopwords')\n",
    "nltk.download('punkt')"
   ],
   "metadata": {
    "collapsed": false,
    "pycharm": {
     "name": "#%%\n"
    }
   }
  },
  {
   "cell_type": "code",
   "execution_count": 5,
   "outputs": [
    {
     "data": {
      "text/plain": "1495"
     },
     "execution_count": 5,
     "metadata": {},
     "output_type": "execute_result"
    }
   ],
   "source": [
    "nltk_stopwords = nltk.corpus.stopwords.words('english')\n",
    "stopwords.extend(nltk_stopwords)\n",
    "len(stopwords)"
   ],
   "metadata": {
    "collapsed": false,
    "pycharm": {
     "name": "#%%\n"
    }
   }
  },
  {
   "cell_type": "markdown",
   "source": [
    "# hazm\n",
    "    use hazm => persioan natral language prosessors pakage\n",
    "        use => Stemmer"
   ],
   "metadata": {
    "collapsed": false,
    "pycharm": {
     "name": "#%% md\n"
    }
   }
  },
  {
   "cell_type": "code",
   "execution_count": 6,
   "outputs": [
    {
     "data": {
      "text/plain": "'کتاب '"
     },
     "execution_count": 6,
     "metadata": {},
     "output_type": "execute_result"
    }
   ],
   "source": [
    "import hazm\n",
    "\n",
    "stemmer = hazm.Stemmer()\n",
    "stemmer.stem('کتاب ها')"
   ],
   "metadata": {
    "collapsed": false,
    "pycharm": {
     "name": "#%%\n"
    }
   }
  },
  {
   "cell_type": "code",
   "execution_count": 7,
   "outputs": [
    {
     "data": {
      "text/plain": "'رفت#رو'"
     },
     "execution_count": 7,
     "metadata": {},
     "output_type": "execute_result"
    }
   ],
   "source": [
    "lem = hazm.Lemmatizer()\n",
    "lem.lemmatize('می‌روم')"
   ],
   "metadata": {
    "collapsed": false,
    "pycharm": {
     "name": "#%%\n"
    }
   }
  },
  {
   "cell_type": "markdown",
   "source": [
    "### Preprocess of news\n",
    "     1 => join ['Title','Body']\n",
    "     2 => tokenization vocab\n",
    "     3 => filter from stopwords\n",
    "     4 => stemming vocabs"
   ],
   "metadata": {
    "collapsed": false,
    "pycharm": {
     "name": "#%% md\n"
    }
   }
  },
  {
   "cell_type": "code",
   "execution_count": 8,
   "outputs": [],
   "source": [
    "from hazm import word_tokenize\n",
    "\n",
    "\"\"\"\n",
    "    Preprocess of news\n",
    "     1 => join ['Title','Body']\n",
    "     2 => tokenization vocab\n",
    "     3 => filter from stopwords\n",
    "     4 => stemming vocabs\n",
    "\"\"\"\n",
    "dataset = pd.DataFrame(columns=('title_body', 'category'))\n",
    "for index, row in data.iterrows():\n",
    "    title_body = row['Title'] + ' ' + row['Body']\n",
    "    title_body_tokenized = word_tokenize(title_body)\n",
    "    title_body_tokenized_filtered = [w for w in title_body_tokenized if not w in stopwords]\n",
    "    title_body_tokenized_filtered_stemmed = [stemmer.stem(w) for w in title_body_tokenized_filtered]\n",
    "    title_body_tokenized_filtered_lem = [lem.lemmatize(w).replace('#', ' ') for w in title_body_tokenized_filtered]\n",
    "    dataset.loc[index] = {\n",
    "        'title_body': ' '.join(title_body_tokenized_filtered_lem) + ' ' + ' '.join(\n",
    "            title_body_tokenized_filtered_stemmed),\n",
    "        'category': row['Category2'].replace('\\n', ''),\n",
    "    }"
   ],
   "metadata": {
    "collapsed": false,
    "pycharm": {
     "name": "#%%\n"
    }
   }
  },
  {
   "cell_type": "code",
   "execution_count": 9,
   "outputs": [
    {
     "data": {
      "text/plain": "                                          title_body category\n0  وزير علوم درجمع استاد نمونه سن بازنشستگي استاد...   آموزشي\n1  گردهمايي دانش‌آموختگان موسسه آموزش عالي سوره ب...   آموزشي\n2  نتايج آزمون دوره‌هاي فراگير دانشگاه پيام‌نور ن...   آموزشي\n3  همايش يكروزه آسيب شناسي مفهوم روابط عمومي بابل...  اجتماعي\n4  وضعيت اقتصادي ميزان تحصيلات والدين مهمترين عوا...   آموزشي",
      "text/html": "<div>\n<style scoped>\n    .dataframe tbody tr th:only-of-type {\n        vertical-align: middle;\n    }\n\n    .dataframe tbody tr th {\n        vertical-align: top;\n    }\n\n    .dataframe thead th {\n        text-align: right;\n    }\n</style>\n<table border=\"1\" class=\"dataframe\">\n  <thead>\n    <tr style=\"text-align: right;\">\n      <th></th>\n      <th>title_body</th>\n      <th>category</th>\n    </tr>\n  </thead>\n  <tbody>\n    <tr>\n      <th>0</th>\n      <td>وزير علوم درجمع استاد نمونه سن بازنشستگي استاد...</td>\n      <td>آموزشي</td>\n    </tr>\n    <tr>\n      <th>1</th>\n      <td>گردهمايي دانش‌آموختگان موسسه آموزش عالي سوره ب...</td>\n      <td>آموزشي</td>\n    </tr>\n    <tr>\n      <th>2</th>\n      <td>نتايج آزمون دوره‌هاي فراگير دانشگاه پيام‌نور ن...</td>\n      <td>آموزشي</td>\n    </tr>\n    <tr>\n      <th>3</th>\n      <td>همايش يكروزه آسيب شناسي مفهوم روابط عمومي بابل...</td>\n      <td>اجتماعي</td>\n    </tr>\n    <tr>\n      <th>4</th>\n      <td>وضعيت اقتصادي ميزان تحصيلات والدين مهمترين عوا...</td>\n      <td>آموزشي</td>\n    </tr>\n  </tbody>\n</table>\n</div>"
     },
     "execution_count": 9,
     "metadata": {},
     "output_type": "execute_result"
    }
   ],
   "source": [
    "dataset.head()\n"
   ],
   "metadata": {
    "collapsed": false,
    "pycharm": {
     "name": "#%%\n"
    }
   }
  },
  {
   "cell_type": "markdown",
   "source": [
    " ### use bag of words to vectorized static title"
   ],
   "metadata": {
    "collapsed": false,
    "pycharm": {
     "name": "#%% md\n"
    }
   }
  },
  {
   "cell_type": "code",
   "execution_count": 10,
   "outputs": [
    {
     "data": {
      "text/plain": "TfidfVectorizer(ngram_range=(1, 2))"
     },
     "execution_count": 10,
     "metadata": {},
     "output_type": "execute_result"
    }
   ],
   "source": [
    "\"\"\"\n",
    "    use bag of words to vectorized static title\n",
    "\n",
    "        ==>> use ngram_range\n",
    "\"\"\"\n",
    "from sklearn.feature_extraction.text import TfidfVectorizer\n",
    "\n",
    "vectorizer = TfidfVectorizer(ngram_range=(1, 2))\n",
    "vectorizer.fit(dataset['title_body'])"
   ],
   "metadata": {
    "collapsed": false,
    "pycharm": {
     "name": "#%%\n"
    }
   }
  },
  {
   "cell_type": "code",
   "execution_count": 11,
   "outputs": [],
   "source": [
    "X = vectorizer.transform(dataset['title_body'])"
   ],
   "metadata": {
    "collapsed": false,
    "pycharm": {
     "name": "#%%\n"
    }
   }
  },
  {
   "cell_type": "code",
   "execution_count": 12,
   "outputs": [
    {
     "data": {
      "text/plain": "<10999x1861001 sparse matrix of type '<class 'numpy.float64'>'\n\twith 6234277 stored elements in Compressed Sparse Row format>"
     },
     "execution_count": 12,
     "metadata": {},
     "output_type": "execute_result"
    }
   ],
   "source": [
    "X"
   ],
   "metadata": {
    "collapsed": false,
    "pycharm": {
     "name": "#%%\n"
    }
   }
  },
  {
   "cell_type": "markdown",
   "source": [
    "### encoding labels | change categorical to numeric"
   ],
   "metadata": {
    "collapsed": false,
    "pycharm": {
     "name": "#%% md\n"
    }
   }
  },
  {
   "cell_type": "code",
   "execution_count": 13,
   "outputs": [],
   "source": [
    "from sklearn.preprocessing import LabelEncoder\n",
    "\n",
    "label_encoder = LabelEncoder()\n",
    "y = label_encoder.fit_transform(dataset['category'])"
   ],
   "metadata": {
    "collapsed": false,
    "pycharm": {
     "name": "#%%\n"
    }
   }
  },
  {
   "cell_type": "code",
   "execution_count": 14,
   "outputs": [
    {
     "data": {
      "text/plain": "10999"
     },
     "execution_count": 14,
     "metadata": {},
     "output_type": "execute_result"
    }
   ],
   "source": [
    "len(y)"
   ],
   "metadata": {
    "collapsed": false,
    "pycharm": {
     "name": "#%%\n"
    }
   }
  },
  {
   "cell_type": "code",
   "execution_count": 15,
   "outputs": [
    {
     "data": {
      "text/plain": "array(['آموزشي', 'اجتماعي', 'اقتصادي', 'بهداشتي', 'تاريخي', 'سياسي',\n       'علمي', 'فرهنگي', 'فقه و حقوق', 'مذهبي', 'ورزشي'], dtype=object)"
     },
     "execution_count": 15,
     "metadata": {},
     "output_type": "execute_result"
    }
   ],
   "source": [
    "label_encoder.classes_"
   ],
   "metadata": {
    "collapsed": false,
    "pycharm": {
     "name": "#%%\n"
    }
   }
  },
  {
   "cell_type": "code",
   "execution_count": 16,
   "outputs": [
    {
     "name": "stdout",
     "output_type": "stream",
     "text": [
      "['آموزشي' 'اجتماعي' 'اقتصادي' 'بهداشتي' 'تاريخي' 'سياسي' 'علمي' 'فرهنگي'\n",
      " 'فقه و حقوق' 'مذهبي' 'ورزشي']\n"
     ]
    }
   ],
   "source": [
    "import numpy as np\n",
    "\n",
    "print(np.unique(dataset['category']))"
   ],
   "metadata": {
    "collapsed": false,
    "pycharm": {
     "name": "#%%\n"
    }
   }
  },
  {
   "cell_type": "code",
   "execution_count": 17,
   "outputs": [
    {
     "data": {
      "text/plain": "(10999, 1861001)"
     },
     "execution_count": 17,
     "metadata": {},
     "output_type": "execute_result"
    }
   ],
   "source": [
    "X.shape"
   ],
   "metadata": {
    "collapsed": false,
    "pycharm": {
     "name": "#%%\n"
    }
   }
  },
  {
   "cell_type": "code",
   "execution_count": 18,
   "outputs": [
    {
     "data": {
      "text/plain": "(10999,)"
     },
     "execution_count": 18,
     "metadata": {},
     "output_type": "execute_result"
    }
   ],
   "source": [
    "np.shape(y)"
   ],
   "metadata": {
    "collapsed": false,
    "pycharm": {
     "name": "#%%\n"
    }
   }
  },
  {
   "cell_type": "code",
   "execution_count": 19,
   "outputs": [],
   "source": [
    "from sklearn.model_selection import train_test_split\n",
    "\n",
    "X_train, X_test, y_train, y_test = train_test_split(X, y)"
   ],
   "metadata": {
    "collapsed": false,
    "pycharm": {
     "name": "#%%\n"
    }
   }
  },
  {
   "cell_type": "code",
   "execution_count": 20,
   "outputs": [
    {
     "data": {
      "text/plain": "SVC()"
     },
     "execution_count": 20,
     "metadata": {},
     "output_type": "execute_result"
    }
   ],
   "source": [
    "from sklearn import svm\n",
    "\n",
    "svm_c = svm.SVC()\n",
    "svm_c.fit(X_train, y_train)"
   ],
   "metadata": {
    "collapsed": false,
    "pycharm": {
     "name": "#%%\n"
    }
   }
  },
  {
   "cell_type": "markdown",
   "source": [
    "    check %25 data of X => X_test to predict and compare with y_test\n",
    "    :return accuracy"
   ],
   "metadata": {
    "collapsed": false,
    "pycharm": {
     "name": "#%% md\n"
    }
   }
  },
  {
   "cell_type": "code",
   "execution_count": 21,
   "outputs": [
    {
     "data": {
      "text/plain": "0.8483636363636363"
     },
     "execution_count": 21,
     "metadata": {},
     "output_type": "execute_result"
    }
   ],
   "source": [
    "\"\"\"\n",
    "    check %25 data of X => X_test to predict and compare with y_test\n",
    "    :return accuracy\n",
    "\"\"\"\n",
    "svm_c.score(X_test, y_test)\n"
   ],
   "metadata": {
    "collapsed": false,
    "pycharm": {
     "name": "#%%\n"
    }
   }
  },
  {
   "cell_type": "code",
   "execution_count": 22,
   "outputs": [
    {
     "name": "stdout",
     "output_type": "stream",
     "text": [
      "              precision    recall  f1-score   support\n",
      "\n",
      "           0       0.88      0.88      0.88       241\n",
      "           1       0.59      0.71      0.64       259\n",
      "           2       0.80      0.84      0.82       241\n",
      "           3       0.85      0.89      0.87       255\n",
      "           4       0.93      0.90      0.92       238\n",
      "           5       0.84      0.73      0.78       260\n",
      "           6       0.79      0.73      0.76       223\n",
      "           7       0.83      0.90      0.86       251\n",
      "           8       0.92      0.90      0.91       268\n",
      "           9       0.98      0.89      0.93       248\n",
      "          10       0.97      0.95      0.96       266\n",
      "\n",
      "    accuracy                           0.85      2750\n",
      "   macro avg       0.85      0.85      0.85      2750\n",
      "weighted avg       0.85      0.85      0.85      2750\n",
      "\n"
     ]
    },
    {
     "data": {
      "text/plain": "'\\n    low accuracy of class 1 => social news\\n'"
     },
     "execution_count": 22,
     "metadata": {},
     "output_type": "execute_result"
    }
   ],
   "source": [
    "from sklearn.metrics import classification_report, confusion_matrix\n",
    "\n",
    "y_pred = svm_c.predict(X_test)\n",
    "print(classification_report(y_test, y_pred))\n",
    "\"\"\"\n",
    "    low accuracy of class 1 => social news\n",
    "\"\"\""
   ],
   "metadata": {
    "collapsed": false,
    "pycharm": {
     "name": "#%%\n"
    }
   }
  },
  {
   "cell_type": "code",
   "execution_count": 24,
   "outputs": [
    {
     "name": "stdout",
     "output_type": "stream",
     "text": [
      "['آموزشي' 'اجتماعي' 'اقتصادي' 'بهداشتي' 'تاريخي' 'سياسي' 'علمي' 'فرهنگي'\n",
      " 'فقه و حقوق' 'مذهبي' 'ورزشي']\n",
      "\n",
      " #################################################################################################### \n",
      "\n",
      "[[212  11   0   1   0   2  12   3   0   0   0]\n",
      " [ 13 183  21   5   3   4   9   9   7   2   3]\n",
      " [  1  22 202   1   0   3   6   5   1   0   0]\n",
      " [  0  11   3 228   0   2   9   1   0   0   1]\n",
      " [  0   6   0   0 215  11   1   5   0   0   0]\n",
      " [  0  25  14   3   7 191   2   5  12   1   0]\n",
      " [ 10   9   3  26   1   2 162   8   1   0   1]\n",
      " [  3  11   1   0   1   3   3 226   0   1   2]\n",
      " [  0  13   4   0   2   6   0   3 240   0   0]\n",
      " [  0  15   3   0   1   3   0   5   0 221   0]\n",
      " [  1   5   0   3   0   1   1   2   0   0 253]]\n"
     ]
    }
   ],
   "source": [
    "\"\"\"\n",
    "    columns => predicted class\n",
    "    rows => original class\n",
    "\"\"\"\n",
    "print(label_encoder.classes_)\n",
    "print(\"\\n\", \"#\" * 100, '\\n')\n",
    "print(confusion_matrix(y_test, y_pred))\n"
   ],
   "metadata": {
    "collapsed": false,
    "pycharm": {
     "name": "#%%\n"
    }
   }
  },
  {
   "cell_type": "code",
   "execution_count": 23,
   "outputs": [],
   "source": [],
   "metadata": {
    "collapsed": false,
    "pycharm": {
     "name": "#%%\n"
    }
   }
  }
 ],
 "metadata": {
  "kernelspec": {
   "display_name": "Python 3",
   "language": "python",
   "name": "python3"
  },
  "language_info": {
   "codemirror_mode": {
    "name": "ipython",
    "version": 2
   },
   "file_extension": ".py",
   "mimetype": "text/x-python",
   "name": "python",
   "nbconvert_exporter": "python",
   "pygments_lexer": "ipython2",
   "version": "2.7.6"
  }
 },
 "nbformat": 4,
 "nbformat_minor": 0
}